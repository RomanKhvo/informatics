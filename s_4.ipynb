{
 "cells": [
  {
   "cell_type": "markdown",
   "id": "be8a89ee-c41a-45e4-b757-5da3c9a110d4",
   "metadata": {},
   "source": [
    "# Лабораторное занятие 4. Связные списки"
   ]
  },
  {
   "cell_type": "markdown",
   "id": "c3915cd5-675d-4e98-bd57-34848e9b22d7",
   "metadata": {},
   "source": [
    "## Задачи"
   ]
  },
  {
   "cell_type": "markdown",
   "id": "15ffdc9e-133c-489f-b220-dcf43a4bb6bb",
   "metadata": {},
   "source": [
    "Для начинающей группы задачи 1-4, для основной 1-5, для продолжающей 1-6."
   ]
  },
  {
   "cell_type": "markdown",
   "id": "3c531901-dabc-4f4e-86bc-8362d9649804",
   "metadata": {},
   "source": [
    "1. Напишите программу для поиска определенного элемента (вводится с клавиатуры) в односвязном списке и возврата true, если элемент найден, в противном случае, возвращайте false.\n",
    "\n",
    "2. Напишите функцию для вывода двусвязного списка в обратном порядке.\n",
    "\n",
    "3. Есть односвязный список, в нем есть функции добавить элемент в произвольное место, удалить элемент по значению, распечатать список (для проверки правильности добавления и удаления), значения элементов списка ai целые числа, где i – итый элемент текущего списка. Для текущего состояния списка вычислить последовательность элементов ai – an, где n – последний элемент односвязного списка.\n",
    "\n",
    "4. Напишите функцию для удаления заданного (вводится с клавиатуры) элемента двусвязного списка.\n",
    "\n",
    "5. Для двухсвязного аналогично можно вычислить последовательность a_1 - a_n, a_2 - a_{n-1}, и так до середины списка.\n",
    "\n",
    "6. Стек представляет собой список элементов, организованных по принципу LIFO (англ. last in — first out, «последним пришёл — первым вышел»). Пользователь может может добавить элементы в стек и получить доступ или удалить только недавно добавленные элементы в вершину стека. \n",
    "\n",
    "Для стека определены следуюшие операции:\n",
    "* push() : добавляет элемент в стек и перемещает указатель на этот элемент стека.\n",
    "* pop() : возвращает \"верхний\" (top) элемент и перемещает указатель на 2-й элемент стека.\n",
    "* top() : возвращает \"верхний\" (top) элемент.\n",
    "* size() : возвращает размер стека.\n",
    "* isEmpty() : возвращает True если стек пуст, в противном случае возвращает False.\n",
    "* printstack() : выводит на экран все элементы стека.\n",
    "\n",
    "Реализуйте эти операции используя двусвязный список."
   ]
  },
  {
   "cell_type": "markdown",
   "id": "fe424513",
   "metadata": {},
   "source": [
    "№1"
   ]
  },
  {
   "cell_type": "code",
   "execution_count": 5,
   "id": "123e9165-11c2-4b91-93f2-c5c4272a81c0",
   "metadata": {},
   "outputs": [
    {
     "name": "stdout",
     "output_type": "stream",
     "text": [
      "66\n",
      "False\n"
     ]
    }
   ],
   "source": [
    "class Node:\n",
    "\n",
    "    def __init__(self, value):\n",
    "        self.value = value\n",
    "        self.next = None\n",
    "\n",
    "\n",
    "class LinkedList:\n",
    "\n",
    "    def __init__(self):\n",
    "        self.head = None  \n",
    "\n",
    "    def add(self, value):\n",
    "\n",
    "        new_node = Node(value)\n",
    "\n",
    "        if self.head is None:\n",
    "\n",
    "            self.head = new_node\n",
    "        else:\n",
    "  \n",
    "            current_node = self.head\n",
    "            while current_node.next is not None:\n",
    "                current_node = current_node.next\n",
    "            current_node.next = new_node\n",
    "\n",
    "    def search(self, value):\n",
    "\n",
    "        current_node = self.head\n",
    "        while current_node is not None:\n",
    "            if current_node.value == value:\n",
    "\n",
    "                return True\n",
    "            current_node = current_node.next\n",
    "\n",
    "        return False\n",
    "\n",
    "\n",
    "my_list = LinkedList()\n",
    "my_list.add(1)\n",
    "my_list.add(2)\n",
    "my_list.add(3)\n",
    "\n",
    "search_value = int(input())\n",
    "\n",
    "print(my_list.search(search_value))"
   ]
  },
  {
   "cell_type": "markdown",
   "id": "724a95a6",
   "metadata": {},
   "source": [
    "№2"
   ]
  },
  {
   "cell_type": "code",
   "execution_count": null,
   "id": "158deb36",
   "metadata": {},
   "outputs": [],
   "source": [
    "class Node:\n",
    "    def __init__(self, data):\n",
    "        self.prev = None\n",
    "        self.data = data \n",
    "        self.next = None \n",
    "\n",
    "\n",
    "class DoublyLinkedList:\n",
    "    def __init__(self):\n",
    "        self.head = None\n",
    "\n",
    "    def append(self, data):\n",
    "        new_node = Node(data)\n",
    "        if self.head is None:\n",
    "            self.head = new_node\n",
    "        else:\n",
    "            current_node = self.head\n",
    "            while current_node.next is not None:\n",
    "                current_node = current_node.next\n",
    "            current_node.next = new_node\n",
    "            new_node.prev = current_node\n",
    "            \n",
    "    def reverse_print(self):\n",
    "        if self.head is None:\n",
    "            print(\"Список пуст.\")\n",
    "        else:\n",
    "            current_node = self.head\n",
    "            while current_node.next is not None:\n",
    "                current_node = current_node.next\n",
    "            while current_node is not None:\n",
    "                print(current_node.data)\n",
    "                current_node = current_node.prev\n"
   ]
  },
  {
   "cell_type": "markdown",
   "id": "42363837",
   "metadata": {},
   "source": [
    "№3"
   ]
  },
  {
   "cell_type": "code",
   "execution_count": 1,
   "id": "ead3c1c2",
   "metadata": {},
   "outputs": [],
   "source": [
    "class Node:\n",
    "    def __init__(self, data):\n",
    "        self.data = data\n",
    "        self.next = None\n",
    "\n",
    "\n",
    "class LinkedList:\n",
    "    def __init__(self):\n",
    "        self.head = None\n",
    "\n",
    "    def add_node(self, value, pos):\n",
    "        new_node = Node(value)\n",
    "        if not self.head:\n",
    "            self.head = new_node\n",
    "            return\n",
    "\n",
    "        if pos == 0:\n",
    "            new_node.next = self.head\n",
    "            self.head = new_node\n",
    "            return\n",
    "\n",
    "        prev_node = self.head\n",
    "        for i in range(pos - 1):\n",
    "            prev_node = prev_node.next\n",
    "            if not prev_node:\n",
    "                raise IndexError(\"List index out of range\")\n",
    "\n",
    "        new_node.next = prev_node.next\n",
    "        prev_node.next = new_node\n",
    "\n",
    "    def remove(self, value):\n",
    "        if self.head is None:\n",
    "            return\n",
    "        if self.head.data == value:\n",
    "            self.head = self.head.next\n",
    "            return\n",
    "        current_node = self.head\n",
    "        while current_node.next is not None:\n",
    "            if current_node.next.data == value:\n",
    "                current_node.next = current_node.next.next\n",
    "                return\n",
    "            current_node = current_node.next\n",
    "\n",
    "    def print_list(self):\n",
    "        if self.head is None:\n",
    "            return\n",
    "        current_node = self.head\n",
    "        while current_node is not None:\n",
    "            print(current_node.data, end =\" \")\n",
    "            current_node = current_node.next\n",
    "        print()\n",
    "\n",
    "\n",
    "    def search(self, pos):\n",
    "        if self.head is None:\n",
    "            return []\n",
    "        i = 0\n",
    "        current_node = self.head\n",
    "        while current_node.next is not None:\n",
    "            current_node = current_node.next\n",
    "            i+=1\n",
    "            if i >= pos:\n",
    "                print(current_node.data, end = \" \")\n"
   ]
  },
  {
   "cell_type": "markdown",
   "id": "ec0692a5",
   "metadata": {},
   "source": [
    "№4"
   ]
  },
  {
   "cell_type": "code",
   "execution_count": null,
   "id": "eb30f0ec",
   "metadata": {},
   "outputs": [],
   "source": []
  },
  {
   "cell_type": "markdown",
   "id": "4904c422",
   "metadata": {},
   "source": [
    "№5"
   ]
  },
  {
   "cell_type": "markdown",
   "id": "c2d9f567",
   "metadata": {},
   "source": [
    "№6"
   ]
  },
  {
   "cell_type": "code",
   "execution_count": null,
   "id": "baca07ba",
   "metadata": {},
   "outputs": [],
   "source": []
  }
 ],
 "metadata": {
  "kernelspec": {
   "display_name": "Python 3 (ipykernel)",
   "language": "python",
   "name": "python3"
  },
  "language_info": {
   "codemirror_mode": {
    "name": "ipython",
    "version": 3
   },
   "file_extension": ".py",
   "mimetype": "text/x-python",
   "name": "python",
   "nbconvert_exporter": "python",
   "pygments_lexer": "ipython3",
   "version": "3.11.2"
  }
 },
 "nbformat": 4,
 "nbformat_minor": 5
}
